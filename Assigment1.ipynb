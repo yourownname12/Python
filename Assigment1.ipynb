{
 "cells": [
  {
   "cell_type": "code",
   "execution_count": 1,
   "metadata": {},
   "outputs": [
    {
     "name": "stdout",
     "output_type": "stream",
     "text": [
      "Twinkle, twinkle, little star,\n",
      "\tHow I wonder what you are!\n",
      "\t\tUp above the world so high,\n",
      "\t\tLike a diamond in the sky.\n",
      "Twinkle, twinkle, litte star,\n",
      "\tHow I wonder what you are\n"
     ]
    }
   ],
   "source": [
    "print(\"Twinkle, twinkle, little star,\\n\\tHow I wonder what you are!\\n\\t\\tUp above the world so high,\\n\\t\\tLike a diamond in the sky.\\nTwinkle, twinkle, litte star,\\n\\tHow I wonder what you are\")"
   ]
  },
  {
   "cell_type": "code",
   "execution_count": 2,
   "metadata": {},
   "outputs": [
    {
     "name": "stdout",
     "output_type": "stream",
     "text": [
      "version 3.7.4 (default, Aug  9 2019, 18:34:13) [MSC v.1915 64 bit (AMD64)]\n"
     ]
    }
   ],
   "source": [
    "import sys\n",
    "print(\"version\",sys.version)\n"
   ]
  },
  {
   "cell_type": "code",
   "execution_count": 3,
   "metadata": {},
   "outputs": [
    {
     "name": "stdout",
     "output_type": "stream",
     "text": [
      "\n",
      "Current date is 03-11-19\n",
      "\n",
      "Current time is 11:03:04\n"
     ]
    }
   ],
   "source": [
    "import datetime\n",
    "current=datetime.datetime.now()\n",
    "print(\"\\nCurrent date is\",current.strftime(\"%d-%m-%y\"))\n",
    "print(\"\\nCurrent time is\",current.strftime(\"%H:%M:%S\"))\n"
   ]
  },
  {
   "cell_type": "code",
   "execution_count": 4,
   "metadata": {},
   "outputs": [
    {
     "name": "stdout",
     "output_type": "stream",
     "text": [
      "\t Area of Circle\n",
      "\n",
      "please Enter radius of circle, N1\n",
      "2\n",
      "Area of circle is :  6.824\n"
     ]
    }
   ],
   "source": [
    "print(\"\\t Area of Circle\\n\")\n",
    "radius=float(input(\"please Enter radius of circle, N1\\n\"))\n",
    "area=0.5*3.412*(radius)**2\n",
    "print(\"Area of circle is : \", area)\n"
   ]
  },
  {
   "cell_type": "code",
   "execution_count": 5,
   "metadata": {},
   "outputs": [
    {
     "name": "stdout",
     "output_type": "stream",
     "text": [
      "Enter your firstname Resham\n",
      "Enter your lastnameGul\n",
      "Your reversed name is Gul   Resham\n"
     ]
    }
   ],
   "source": [
    "fname=input(\"Enter your firstname\")\n",
    "lname=input(\"Enter your lastname\")\n",
    "print(\"Your reversed name is\",lname,\"\",fname)\n"
   ]
  },
  {
   "cell_type": "code",
   "execution_count": 6,
   "metadata": {},
   "outputs": [
    {
     "name": "stdout",
     "output_type": "stream",
     "text": [
      "\t Addition of two Numbers\n",
      "\n",
      "please Enter 1st Number, N1\n",
      "2\n",
      "2\n",
      "please Enter 1st Number, N2\n",
      "3\n",
      "3\n",
      "Result 5\n"
     ]
    }
   ],
   "source": [
    "print(\"\\t Addition of two Numbers\\n\")\n",
    "N1=int(input(\"please Enter 1st Number, N1\\n\"))\n",
    "print(N1)\n",
    "N2=int(input(\"please Enter 1st Number, N2\\n\"))\n",
    "print(N2)\n",
    "result=N1+N2\n",
    "print(\"Result\", result)\n"
   ]
  },
  {
   "cell_type": "code",
   "execution_count": null,
   "metadata": {},
   "outputs": [],
   "source": []
  }
 ],
 "metadata": {
  "kernelspec": {
   "display_name": "Python 3",
   "language": "python",
   "name": "python3"
  },
  "language_info": {
   "codemirror_mode": {
    "name": "ipython",
    "version": 3
   },
   "file_extension": ".py",
   "mimetype": "text/x-python",
   "name": "python",
   "nbconvert_exporter": "python",
   "pygments_lexer": "ipython3",
   "version": "3.7.4"
  }
 },
 "nbformat": 4,
 "nbformat_minor": 2
}
